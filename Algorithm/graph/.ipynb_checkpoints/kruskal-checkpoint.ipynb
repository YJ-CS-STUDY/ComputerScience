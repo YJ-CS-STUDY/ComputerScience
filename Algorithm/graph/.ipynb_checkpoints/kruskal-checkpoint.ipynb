{
 "cells": [
  {
   "cell_type": "markdown",
   "metadata": {},
   "source": [
    "# 크루스칼 알고리즘\n",
    "---\n",
    "가장 적은 비용으로 모든 노드를 연결하기 위해 사용하는 알고리즘이다. **최소 비용 신장 트리(Minimum Spanning** \n",
    "\n",
    "**Tree)**를 만들기 위한 대표적인 알고리즘이라 할 수 있다. 흔히 여러 개의 도시가 있을 때 각 도시를 도로를 이용해 연결하고자 \n",
    "\n",
    "할 때 비용을 최소한으로 하고자 할 때 실제로 적용되는 알고리즘이다. "
   ]
  },
  {
   "cell_type": "markdown",
   "metadata": {},
   "source": [
    "https://www.notion.so/modulabs/2732cfda29244db29189c163977f0d1e"
   ]
  },
  {
   "cell_type": "code",
   "execution_count": 6,
   "metadata": {},
   "outputs": [],
   "source": [
    "# parent[v1] != v1 \n",
    "# list index error\n",
    "\n",
    "def kruskal(lst):\n",
    "    min_val = 0\n",
    "    while lst:\n",
    "\n",
    "        # 간선이 모두 연결되었다면    \n",
    "        if sum(parent) == v:\n",
    "            break\n",
    "\n",
    "        v1, v2, dist = lst.pop(0)\n",
    "        # 사이클이 존재하는지 체크\n",
    "        if find_parent(parent, v1) != find_parent(parent, v2):\n",
    "            union_parent(parent, v1,v2)\n",
    "            min_val += dist\n",
    "\n",
    "    return min_val\n",
    "\n",
    "def find_parent(parent, x):\n",
    "    # 루트 노드가 아니라면, 루트 노드를 찾을 때까지 재귀적으로 호출\n",
    "    if parent[x] != x:\n",
    "        parent[x] = find_parent(parent, parent[x])\n",
    "    return parent[x]\n",
    "\n",
    "def union_parent(parent, v1, v2):\n",
    "    a = find_parent(parent, v1)\n",
    "    b = find_parent(parent, v2)\n",
    "    if a < b: parent[b] = a\n",
    "    else: parent[a] = b \n",
    "\n",
    "\n",
    "# if __name__ == \"__main__\":\n",
    "\n",
    "#     # 정점의 개수, 간선\n",
    "#     v, e= map(int, input().split())\n",
    "\n",
    "#     parent = [0] * (v + 1)\n",
    "#     v_list = []\n",
    "\n",
    "#     parent = [ i for i in range(1, v + 1)]\n",
    "\n",
    "#     for i in range(e):\n",
    "#         v1, v2, dist = list(map(int, input().split()))\n",
    "#         v_list.append([v1, v2, dist])\n",
    "\n",
    "#     # 정렬\n",
    "#     v_list.sort(key=lambda x: (x[2], x[0], x[1]))\n",
    "#     print(kruskal(v_list))"
   ]
  },
  {
   "cell_type": "code",
   "execution_count": 4,
   "metadata": {},
   "outputs": [
    {
     "name": "stdout",
     "output_type": "stream",
     "text": [
      "7 11\n",
      "1 7 12\n",
      "1 4 28\n",
      "1 2 67\n",
      "1 5 17\n",
      "2 4 24\n",
      "2 5 62\n",
      "3 5 20\n",
      "3 6 37\n",
      "4 7 13\n",
      "5 6 45\n",
      "5 7 73\n",
      "123\n"
     ]
    }
   ],
   "source": [
    "# 특정 원소가 속한 집합을 찾기\n",
    "def find_parent(parent, x):\n",
    "    # 루트 노드가 아니라면, 루트 노드를 찾을 때까지 재귀적으로 호출\n",
    "    if parent[x] != x:\n",
    "        parent[x] = find_parent(parent, parent[x])\n",
    "    return parent[x]\n",
    "\n",
    "# 두 원소가 속한 집합을 합치기\n",
    "def union_parent(parent, a, b):\n",
    "    a = find_parent(parent, a)\n",
    "    b = find_parent(parent, b)\n",
    "    if a < b:\n",
    "        parent[b] = a\n",
    "    else:\n",
    "        parent[a] = b\n",
    "\n",
    "# 노드의 개수와 간선(Union 연산)의 개수 입력 받기\n",
    "v, e = map(int, input().split())\n",
    "parent = [0] * (v + 1) # 부모 테이블 초기화하기\n",
    "\n",
    "# 모든 간선을 담을 리스트와, 최종 비용을 담을 변수\n",
    "edges = []\n",
    "result = 0\n",
    "\n",
    "# 부모 테이블상에서, 부모를 자기 자신으로 초기화\n",
    "for i in range(1, v + 1):\n",
    "    parent[i] = i\n",
    "\n",
    "# 모든 간선에 대한 정보를 입력 받기\n",
    "for _ in range(e):\n",
    "    a, b, cost = map(int, input().split())\n",
    "    # 비용순으로 정렬하기 위해서 튜플의 첫 번째 원소를 비용으로 설정\n",
    "    edges.append((cost, a, b))\n",
    "\n",
    "# 간선을 비용순으로 정렬\n",
    "edges.sort()\n",
    "\n",
    "# 간선을 하나씩 확인하며\n",
    "for edge in edges:\n",
    "    cost, a, b = edge\n",
    "    # 사이클이 발생하지 않는 경우에만 집합에 포함\n",
    "    if find_parent(parent, a) != find_parent(parent, b):\n",
    "        union_parent(parent, a, b)\n",
    "        result += cost\n",
    "\n",
    "print(result)"
   ]
  }
 ],
 "metadata": {
  "kernelspec": {
   "display_name": "Python 3",
   "language": "python",
   "name": "python3"
  },
  "language_info": {
   "codemirror_mode": {
    "name": "ipython",
    "version": 3
   },
   "file_extension": ".py",
   "mimetype": "text/x-python",
   "name": "python",
   "nbconvert_exporter": "python",
   "pygments_lexer": "ipython3",
   "version": "3.8.5"
  }
 },
 "nbformat": 4,
 "nbformat_minor": 4
}
